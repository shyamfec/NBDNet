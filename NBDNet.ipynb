{
  "nbformat": 4,
  "nbformat_minor": 0,
  "metadata": {
    "colab": {
      "provenance": []
    },
    "kernelspec": {
      "name": "python3",
      "display_name": "Python 3"
    },
    "language_info": {
      "name": "python"
    }
  },
  "cells": [
    {
      "cell_type": "markdown",
      "source": [
        "Importing the required library packages"
      ],
      "metadata": {
        "id": "tDX7GcMMSFiQ"
      }
    },
    {
      "cell_type": "code",
      "execution_count": 1,
      "metadata": {
        "id": "peIy5tE_Rq5N"
      },
      "outputs": [],
      "source": [
        "import tensorflow as tf\n",
        "from tensorflow import keras\n",
        "#import keras as keras\n",
        "import numpy as np\n",
        "import os\n",
        "import cv2\n",
        "import matplotlib.pyplot as plt\n",
        "import math\n",
        "from keras.models import Sequential, Model, load_model\n",
        "from keras.layers import Conv2D, Activation, Input, Dense, Add, Lambda\n",
        "from keras.losses import MeanSquaredError\n",
        "#from tensorflow.keras.layers import BatchNormalization, SeparableConv2D, MaxPooling2D, Activation, ReLU, LeakyReLU, Flatten, Dropout, Dense, MaxPool2D\n",
        "from tensorflow.keras.optimizers import SGD, Adam\n",
        "from tensorflow.keras.preprocessing import image\n",
        "from tensorflow.keras.utils import load_img\n",
        "from tensorflow.keras.layers import *\n",
        "import tensorflow.keras.backend as K\n",
        "from scipy import ndimage\n",
        "from skimage import measure, metrics"
      ]
    },
    {
      "cell_type": "markdown",
      "source": [
        "Squeeze and Excitation (SE)"
      ],
      "metadata": {
        "id": "CDiCrRg5TmTQ"
      }
    },
    {
      "cell_type": "code",
      "source": [
        "def squeeze_excitation_block(input, filters):\n",
        "    x = GlobalAveragePooling2D()(input)\n",
        "    x = Dense(filters // 16, activation='relu')(x)\n",
        "    x = Dense(filters, activation='sigmoid')(x)\n",
        "    x = Reshape((1, 1, filters))(x)\n",
        "    x = Multiply()([input, x])\n",
        "    return x"
      ],
      "metadata": {
        "id": "WrIPLCZxTp_Q"
      },
      "execution_count": 2,
      "outputs": []
    },
    {
      "cell_type": "markdown",
      "source": [
        "Convolutional Block Attention Module (CBAM)"
      ],
      "metadata": {
        "id": "KdmzFOQZT29w"
      }
    },
    {
      "cell_type": "code",
      "source": [
        "def cbam_block(input, reduction_ratio=16):\n",
        "    x = input\n",
        "    channel_axis = 1 if K.image_data_format() == \"channels_first\" else -1\n",
        "    filters = x.shape[channel_axis]\n",
        "\n",
        "    # Channel Attention Module\n",
        "    avg_pool = GlobalAveragePooling2D()(x)\n",
        "    max_pool = GlobalMaxPooling2D()(x)\n",
        "    avg_pool = Dense(filters // reduction_ratio, activation='relu')(avg_pool)\n",
        "    max_pool = Dense(filters // reduction_ratio, activation='relu')(max_pool)\n",
        "    avg_pool = Dense(filters, activation='sigmoid')(avg_pool)\n",
        "    max_pool = Dense(filters, activation='sigmoid')(max_pool)\n",
        "    channel_attention = Multiply()([x, avg_pool + max_pool])\n",
        "\n",
        "    # Spatial Attention Module\n",
        "    max_pool = Lambda(lambda x: K.expand_dims(K.max(x, axis=3)))(channel_attention)\n",
        "    avg_pool = Lambda(lambda x: K.expand_dims(K.mean(x, axis=3)))(channel_attention)\n",
        "    spatial_attention = Concatenate(axis=3)([max_pool, avg_pool])\n",
        "    spatial_attention = Conv2D(1, (3, 3), padding='same', activation='sigmoid')(spatial_attention)\n",
        "    spatial_attention = Multiply()([channel_attention, spatial_attention])\n",
        "\n",
        "    return spatial_attention"
      ],
      "metadata": {
        "id": "nhyk1jzsTseA"
      },
      "execution_count": 3,
      "outputs": []
    },
    {
      "cell_type": "markdown",
      "source": [
        "NBDNet Model"
      ],
      "metadata": {
        "id": "aK_7pgAfT6Yg"
      }
    },
    {
      "cell_type": "code",
      "source": [
        "input = Input(shape=(64, 64, 1))\n",
        "\n",
        "# Noise estimation subnetwork\n",
        "x = Conv2D(32, (3, 3), activation='relu', kernel_initializer='he_normal', padding='same')(input)\n",
        "x = Conv2D(32, (3, 3), activation='relu', kernel_initializer='he_normal', padding='same')(x)\n",
        "x = Conv2D(32, (3, 3), activation='relu', kernel_initializer='he_normal', padding='same')(x)\n",
        "x = Conv2D(32, (3, 3), activation='relu', kernel_initializer='he_normal', padding='same')(x)\n",
        "x = Conv2D(3, (3, 3), activation='relu', kernel_initializer='he_normal', padding='same')(x)\n",
        "\n",
        "# Non-Blind denoising subnetwork\n",
        "x = concatenate([x, input])\n",
        "x = squeeze_excitation_block(x, x.shape[-1])\n",
        "x = cbam_block(x)\n",
        "conv1 = Conv2D(64, (3, 3), activation='relu', kernel_initializer='he_normal', padding='same')(x)\n",
        "conv2 = Conv2D(64, (3, 3), activation='relu', kernel_initializer='he_normal', padding='same')(conv1)\n",
        "\n",
        "# Add additional convolutional layers\n",
        "conv3 = Conv2D(64, (3, 3), activation='relu', kernel_initializer='he_normal', padding='same')(conv2)\n",
        "conv4 = Conv2D(64, (3, 3), activation='relu', kernel_initializer='he_normal', padding='same')(conv3)\n",
        "\n",
        "pool1 = AveragePooling2D(pool_size=(2, 2), padding='same')(conv4)\n",
        "conv5 = Conv2D(128, (3, 3), activation='relu', kernel_initializer='he_normal', padding='same')(pool1)\n",
        "conv6 = Conv2D(128, (3, 3), activation='relu', kernel_initializer='he_normal', padding='same')(conv5)\n",
        "conv7 = Conv2D(128, (3, 3), activation='relu', kernel_initializer='he_normal', padding='same')(conv6)\n",
        "\n",
        "pool2 = AveragePooling2D(pool_size=(2, 2), padding='same')(conv7)\n",
        "conv8 = Conv2D(256, (3, 3), activation='relu', kernel_initializer='he_normal', padding='same')(pool2)\n",
        "conv9 = Conv2D(256, (3, 3), activation='relu', kernel_initializer='he_normal', padding='same')(conv8)\n",
        "conv10 = Conv2D(256, (3, 3), activation='relu', kernel_initializer='he_normal', padding='same')(conv9)\n",
        "conv11 = Conv2D(256, (3, 3), activation='relu', kernel_initializer='he_normal', padding='same')(conv10)\n",
        "conv12 = Conv2D(256, (3, 3), activation='relu', kernel_initializer='he_normal', padding='same')(conv11)\n",
        "conv13 = Conv2D(256, (3, 3), activation='relu', kernel_initializer='he_normal', padding='same')(conv12)\n",
        "\n",
        "upsample1 = Conv2DTranspose(128, (3, 3), strides=2, activation='relu', kernel_initializer='he_normal', padding='same')(conv13)\n",
        "add1 = Add()([upsample1, conv7])\n",
        "add1 = squeeze_excitation_block(add1, add1.shape[-1])\n",
        "add1 = cbam_block(add1)\n",
        "conv14 = Conv2D(128, (3, 3), activation='relu', kernel_initializer='he_normal', padding='same')(add1)\n",
        "conv15 = Conv2D(128, (3, 3), activation='relu', kernel_initializer='he_normal', padding='same')(conv14)\n",
        "conv16 = Conv2D(128, (3, 3), activation='relu', kernel_initializer='he_normal', padding='same')(conv15)\n",
        "\n",
        "upsample2 = Conv2DTranspose(64, (3, 3), strides=2, activation='relu', kernel_initializer='he_normal', padding='same')(conv16)\n",
        "add2 = Add()([upsample2, conv4])\n",
        "add2 = squeeze_excitation_block(add2, add2.shape[-1])\n",
        "add2 = cbam_block(add2)\n",
        "conv17 = Conv2D(64, (3, 3), activation='relu', kernel_initializer='he_normal', padding='same')(add2)\n",
        "conv18 = Conv2D(64, (3, 3), activation='relu', kernel_initializer='he_normal', padding='same')(conv17)\n",
        "\n",
        "out = Conv2D(1, (1, 1), kernel_initializer='he_normal', padding='same')(conv18)\n",
        "out = Add()([out, input])\n",
        "\n",
        "model = tf.keras.Model(input, out)\n",
        "\n",
        "model.compile(optimizer=tf.keras.optimizers.Adam(1e-3), loss='mse')\n",
        "model.summary()"
      ],
      "metadata": {
        "colab": {
          "base_uri": "https://localhost:8080/"
        },
        "id": "Dpf70aDLT9bg",
        "outputId": "bfa0e842-3dc6-4b55-9b5c-b7e393b80013"
      },
      "execution_count": 4,
      "outputs": [
        {
          "output_type": "stream",
          "name": "stdout",
          "text": [
            "Model: \"model\"\n",
            "__________________________________________________________________________________________________\n",
            " Layer (type)                   Output Shape         Param #     Connected to                     \n",
            "==================================================================================================\n",
            " input_1 (InputLayer)           [(None, 64, 64, 1)]  0           []                               \n",
            "                                                                                                  \n",
            " conv2d (Conv2D)                (None, 64, 64, 32)   320         ['input_1[0][0]']                \n",
            "                                                                                                  \n",
            " conv2d_1 (Conv2D)              (None, 64, 64, 32)   9248        ['conv2d[0][0]']                 \n",
            "                                                                                                  \n",
            " conv2d_2 (Conv2D)              (None, 64, 64, 32)   9248        ['conv2d_1[0][0]']               \n",
            "                                                                                                  \n",
            " conv2d_3 (Conv2D)              (None, 64, 64, 32)   9248        ['conv2d_2[0][0]']               \n",
            "                                                                                                  \n",
            " conv2d_4 (Conv2D)              (None, 64, 64, 3)    867         ['conv2d_3[0][0]']               \n",
            "                                                                                                  \n",
            " concatenate (Concatenate)      (None, 64, 64, 4)    0           ['conv2d_4[0][0]',               \n",
            "                                                                  'input_1[0][0]']                \n",
            "                                                                                                  \n",
            " global_average_pooling2d (Glob  (None, 4)           0           ['concatenate[0][0]']            \n",
            " alAveragePooling2D)                                                                              \n",
            "                                                                                                  \n",
            " dense (Dense)                  (None, 0)            0           ['global_average_pooling2d[0][0]'\n",
            "                                                                 ]                                \n",
            "                                                                                                  \n",
            " dense_1 (Dense)                (None, 4)            4           ['dense[0][0]']                  \n",
            "                                                                                                  \n",
            " reshape (Reshape)              (None, 1, 1, 4)      0           ['dense_1[0][0]']                \n",
            "                                                                                                  \n",
            " multiply (Multiply)            (None, 64, 64, 4)    0           ['concatenate[0][0]',            \n",
            "                                                                  'reshape[0][0]']                \n",
            "                                                                                                  \n",
            " global_average_pooling2d_1 (Gl  (None, 4)           0           ['multiply[0][0]']               \n",
            " obalAveragePooling2D)                                                                            \n",
            "                                                                                                  \n",
            " global_max_pooling2d (GlobalMa  (None, 4)           0           ['multiply[0][0]']               \n",
            " xPooling2D)                                                                                      \n",
            "                                                                                                  \n",
            " dense_2 (Dense)                (None, 0)            0           ['global_average_pooling2d_1[0][0\n",
            "                                                                 ]']                              \n",
            "                                                                                                  \n",
            " dense_3 (Dense)                (None, 0)            0           ['global_max_pooling2d[0][0]']   \n",
            "                                                                                                  \n",
            " dense_4 (Dense)                (None, 4)            4           ['dense_2[0][0]']                \n",
            "                                                                                                  \n",
            " dense_5 (Dense)                (None, 4)            4           ['dense_3[0][0]']                \n",
            "                                                                                                  \n",
            " tf.__operators__.add (TFOpLamb  (None, 4)           0           ['dense_4[0][0]',                \n",
            " da)                                                              'dense_5[0][0]']                \n",
            "                                                                                                  \n",
            " multiply_1 (Multiply)          (None, 64, 64, 4)    0           ['multiply[0][0]',               \n",
            "                                                                  'tf.__operators__.add[0][0]']   \n",
            "                                                                                                  \n",
            " lambda (Lambda)                (None, 64, 64, 1)    0           ['multiply_1[0][0]']             \n",
            "                                                                                                  \n",
            " lambda_1 (Lambda)              (None, 64, 64, 1)    0           ['multiply_1[0][0]']             \n",
            "                                                                                                  \n",
            " concatenate_1 (Concatenate)    (None, 64, 64, 2)    0           ['lambda[0][0]',                 \n",
            "                                                                  'lambda_1[0][0]']               \n",
            "                                                                                                  \n",
            " conv2d_5 (Conv2D)              (None, 64, 64, 1)    19          ['concatenate_1[0][0]']          \n",
            "                                                                                                  \n",
            " multiply_2 (Multiply)          (None, 64, 64, 4)    0           ['multiply_1[0][0]',             \n",
            "                                                                  'conv2d_5[0][0]']               \n",
            "                                                                                                  \n",
            " conv2d_6 (Conv2D)              (None, 64, 64, 64)   2368        ['multiply_2[0][0]']             \n",
            "                                                                                                  \n",
            " conv2d_7 (Conv2D)              (None, 64, 64, 64)   36928       ['conv2d_6[0][0]']               \n",
            "                                                                                                  \n",
            " conv2d_8 (Conv2D)              (None, 64, 64, 64)   36928       ['conv2d_7[0][0]']               \n",
            "                                                                                                  \n",
            " conv2d_9 (Conv2D)              (None, 64, 64, 64)   36928       ['conv2d_8[0][0]']               \n",
            "                                                                                                  \n",
            " average_pooling2d (AveragePool  (None, 32, 32, 64)  0           ['conv2d_9[0][0]']               \n",
            " ing2D)                                                                                           \n",
            "                                                                                                  \n",
            " conv2d_10 (Conv2D)             (None, 32, 32, 128)  73856       ['average_pooling2d[0][0]']      \n",
            "                                                                                                  \n",
            " conv2d_11 (Conv2D)             (None, 32, 32, 128)  147584      ['conv2d_10[0][0]']              \n",
            "                                                                                                  \n",
            " conv2d_12 (Conv2D)             (None, 32, 32, 128)  147584      ['conv2d_11[0][0]']              \n",
            "                                                                                                  \n",
            " average_pooling2d_1 (AveragePo  (None, 16, 16, 128)  0          ['conv2d_12[0][0]']              \n",
            " oling2D)                                                                                         \n",
            "                                                                                                  \n",
            " conv2d_13 (Conv2D)             (None, 16, 16, 256)  295168      ['average_pooling2d_1[0][0]']    \n",
            "                                                                                                  \n",
            " conv2d_14 (Conv2D)             (None, 16, 16, 256)  590080      ['conv2d_13[0][0]']              \n",
            "                                                                                                  \n",
            " conv2d_15 (Conv2D)             (None, 16, 16, 256)  590080      ['conv2d_14[0][0]']              \n",
            "                                                                                                  \n",
            " conv2d_16 (Conv2D)             (None, 16, 16, 256)  590080      ['conv2d_15[0][0]']              \n",
            "                                                                                                  \n",
            " conv2d_17 (Conv2D)             (None, 16, 16, 256)  590080      ['conv2d_16[0][0]']              \n",
            "                                                                                                  \n",
            " conv2d_18 (Conv2D)             (None, 16, 16, 256)  590080      ['conv2d_17[0][0]']              \n",
            "                                                                                                  \n",
            " conv2d_transpose (Conv2DTransp  (None, 32, 32, 128)  295040     ['conv2d_18[0][0]']              \n",
            " ose)                                                                                             \n",
            "                                                                                                  \n",
            " add (Add)                      (None, 32, 32, 128)  0           ['conv2d_transpose[0][0]',       \n",
            "                                                                  'conv2d_12[0][0]']              \n",
            "                                                                                                  \n",
            " global_average_pooling2d_2 (Gl  (None, 128)         0           ['add[0][0]']                    \n",
            " obalAveragePooling2D)                                                                            \n",
            "                                                                                                  \n",
            " dense_6 (Dense)                (None, 8)            1032        ['global_average_pooling2d_2[0][0\n",
            "                                                                 ]']                              \n",
            "                                                                                                  \n",
            " dense_7 (Dense)                (None, 128)          1152        ['dense_6[0][0]']                \n",
            "                                                                                                  \n",
            " reshape_1 (Reshape)            (None, 1, 1, 128)    0           ['dense_7[0][0]']                \n",
            "                                                                                                  \n",
            " multiply_3 (Multiply)          (None, 32, 32, 128)  0           ['add[0][0]',                    \n",
            "                                                                  'reshape_1[0][0]']              \n",
            "                                                                                                  \n",
            " global_average_pooling2d_3 (Gl  (None, 128)         0           ['multiply_3[0][0]']             \n",
            " obalAveragePooling2D)                                                                            \n",
            "                                                                                                  \n",
            " global_max_pooling2d_1 (Global  (None, 128)         0           ['multiply_3[0][0]']             \n",
            " MaxPooling2D)                                                                                    \n",
            "                                                                                                  \n",
            " dense_8 (Dense)                (None, 8)            1032        ['global_average_pooling2d_3[0][0\n",
            "                                                                 ]']                              \n",
            "                                                                                                  \n",
            " dense_9 (Dense)                (None, 8)            1032        ['global_max_pooling2d_1[0][0]'] \n",
            "                                                                                                  \n",
            " dense_10 (Dense)               (None, 128)          1152        ['dense_8[0][0]']                \n",
            "                                                                                                  \n",
            " dense_11 (Dense)               (None, 128)          1152        ['dense_9[0][0]']                \n",
            "                                                                                                  \n",
            " tf.__operators__.add_1 (TFOpLa  (None, 128)         0           ['dense_10[0][0]',               \n",
            " mbda)                                                            'dense_11[0][0]']               \n",
            "                                                                                                  \n",
            " multiply_4 (Multiply)          (None, 32, 32, 128)  0           ['multiply_3[0][0]',             \n",
            "                                                                  'tf.__operators__.add_1[0][0]'] \n",
            "                                                                                                  \n",
            " lambda_2 (Lambda)              (None, 32, 32, 1)    0           ['multiply_4[0][0]']             \n",
            "                                                                                                  \n",
            " lambda_3 (Lambda)              (None, 32, 32, 1)    0           ['multiply_4[0][0]']             \n",
            "                                                                                                  \n",
            " concatenate_2 (Concatenate)    (None, 32, 32, 2)    0           ['lambda_2[0][0]',               \n",
            "                                                                  'lambda_3[0][0]']               \n",
            "                                                                                                  \n",
            " conv2d_19 (Conv2D)             (None, 32, 32, 1)    19          ['concatenate_2[0][0]']          \n",
            "                                                                                                  \n",
            " multiply_5 (Multiply)          (None, 32, 32, 128)  0           ['multiply_4[0][0]',             \n",
            "                                                                  'conv2d_19[0][0]']              \n",
            "                                                                                                  \n",
            " conv2d_20 (Conv2D)             (None, 32, 32, 128)  147584      ['multiply_5[0][0]']             \n",
            "                                                                                                  \n",
            " conv2d_21 (Conv2D)             (None, 32, 32, 128)  147584      ['conv2d_20[0][0]']              \n",
            "                                                                                                  \n",
            " conv2d_22 (Conv2D)             (None, 32, 32, 128)  147584      ['conv2d_21[0][0]']              \n",
            "                                                                                                  \n",
            " conv2d_transpose_1 (Conv2DTran  (None, 64, 64, 64)  73792       ['conv2d_22[0][0]']              \n",
            " spose)                                                                                           \n",
            "                                                                                                  \n",
            " add_1 (Add)                    (None, 64, 64, 64)   0           ['conv2d_transpose_1[0][0]',     \n",
            "                                                                  'conv2d_9[0][0]']               \n",
            "                                                                                                  \n",
            " global_average_pooling2d_4 (Gl  (None, 64)          0           ['add_1[0][0]']                  \n",
            " obalAveragePooling2D)                                                                            \n",
            "                                                                                                  \n",
            " dense_12 (Dense)               (None, 4)            260         ['global_average_pooling2d_4[0][0\n",
            "                                                                 ]']                              \n",
            "                                                                                                  \n",
            " dense_13 (Dense)               (None, 64)           320         ['dense_12[0][0]']               \n",
            "                                                                                                  \n",
            " reshape_2 (Reshape)            (None, 1, 1, 64)     0           ['dense_13[0][0]']               \n",
            "                                                                                                  \n",
            " multiply_6 (Multiply)          (None, 64, 64, 64)   0           ['add_1[0][0]',                  \n",
            "                                                                  'reshape_2[0][0]']              \n",
            "                                                                                                  \n",
            " global_average_pooling2d_5 (Gl  (None, 64)          0           ['multiply_6[0][0]']             \n",
            " obalAveragePooling2D)                                                                            \n",
            "                                                                                                  \n",
            " global_max_pooling2d_2 (Global  (None, 64)          0           ['multiply_6[0][0]']             \n",
            " MaxPooling2D)                                                                                    \n",
            "                                                                                                  \n",
            " dense_14 (Dense)               (None, 4)            260         ['global_average_pooling2d_5[0][0\n",
            "                                                                 ]']                              \n",
            "                                                                                                  \n",
            " dense_15 (Dense)               (None, 4)            260         ['global_max_pooling2d_2[0][0]'] \n",
            "                                                                                                  \n",
            " dense_16 (Dense)               (None, 64)           320         ['dense_14[0][0]']               \n",
            "                                                                                                  \n",
            " dense_17 (Dense)               (None, 64)           320         ['dense_15[0][0]']               \n",
            "                                                                                                  \n",
            " tf.__operators__.add_2 (TFOpLa  (None, 64)          0           ['dense_16[0][0]',               \n",
            " mbda)                                                            'dense_17[0][0]']               \n",
            "                                                                                                  \n",
            " multiply_7 (Multiply)          (None, 64, 64, 64)   0           ['multiply_6[0][0]',             \n",
            "                                                                  'tf.__operators__.add_2[0][0]'] \n",
            "                                                                                                  \n",
            " lambda_4 (Lambda)              (None, 64, 64, 1)    0           ['multiply_7[0][0]']             \n",
            "                                                                                                  \n",
            " lambda_5 (Lambda)              (None, 64, 64, 1)    0           ['multiply_7[0][0]']             \n",
            "                                                                                                  \n",
            " concatenate_3 (Concatenate)    (None, 64, 64, 2)    0           ['lambda_4[0][0]',               \n",
            "                                                                  'lambda_5[0][0]']               \n",
            "                                                                                                  \n",
            " conv2d_23 (Conv2D)             (None, 64, 64, 1)    19          ['concatenate_3[0][0]']          \n",
            "                                                                                                  \n",
            " multiply_8 (Multiply)          (None, 64, 64, 64)   0           ['multiply_7[0][0]',             \n",
            "                                                                  'conv2d_23[0][0]']              \n",
            "                                                                                                  \n",
            " conv2d_24 (Conv2D)             (None, 64, 64, 64)   36928       ['multiply_8[0][0]']             \n",
            "                                                                                                  \n",
            " conv2d_25 (Conv2D)             (None, 64, 64, 64)   36928       ['conv2d_24[0][0]']              \n",
            "                                                                                                  \n",
            " conv2d_26 (Conv2D)             (None, 64, 64, 1)    65          ['conv2d_25[0][0]']              \n",
            "                                                                                                  \n",
            " add_2 (Add)                    (None, 64, 64, 1)    0           ['conv2d_26[0][0]',              \n",
            "                                                                  'input_1[0][0]']                \n",
            "                                                                                                  \n",
            "==================================================================================================\n",
            "Total params: 4,650,541\n",
            "Trainable params: 4,650,541\n",
            "Non-trainable params: 0\n",
            "__________________________________________________________________________________________________\n"
          ]
        }
      ]
    },
    {
      "cell_type": "markdown",
      "source": [
        "Load Model Weights"
      ],
      "metadata": {
        "id": "se2fLBu_VxPR"
      }
    },
    {
      "cell_type": "code",
      "source": [
        "H1 = model.load_weights('path to model weight')"
      ],
      "metadata": {
        "id": "KpHbHWa0VfzC"
      },
      "execution_count": 6,
      "outputs": []
    },
    {
      "cell_type": "markdown",
      "source": [
        "Import the test image"
      ],
      "metadata": {
        "id": "MwgEJirLWHMg"
      }
    },
    {
      "cell_type": "code",
      "source": [
        "img1 = load_img(\"path to test noisy image\", color_mode=\"grayscale\")\n",
        "img1 = np.asarray(img1)\n",
        "plt.imshow(img1, cmap='gray', vmin=0, vmax=255)\n",
        "plt.show()\n",
        "img1 = img1.astype('float32')\n",
        "img2 = img1/255.0\n",
        "h,w = img2.shape\n",
        "img_noise_pred = img2.reshape(1, h, w, 1)"
      ],
      "metadata": {
        "id": "NgX0sjGMWJ9Q"
      },
      "execution_count": null,
      "outputs": []
    },
    {
      "cell_type": "markdown",
      "source": [
        "Prediction"
      ],
      "metadata": {
        "id": "uMlbcl0rWxHI"
      }
    },
    {
      "cell_type": "code",
      "source": [
        "pred = model.predict(img_noise_pred)\n",
        "_,h,w,_ = pred.shape\n",
        "pred_img = pred.reshape(h, w)\n",
        "pred_256 = pred_img*255.0\n",
        "pred_256 = pred_256.astype('int32')\n",
        "plt.imshow(pred_256, cmap='gray', vmin=0, vmax=255)\n",
        "plt.show()"
      ],
      "metadata": {
        "id": "Is3PJ8uGWwEB"
      },
      "execution_count": null,
      "outputs": []
    }
  ]
}